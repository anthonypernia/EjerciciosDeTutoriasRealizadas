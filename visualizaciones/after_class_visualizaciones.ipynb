{
 "cells": [
  {
   "cell_type": "code",
   "execution_count": null,
   "metadata": {},
   "outputs": [],
   "source": [
    "import pandas as pd\n",
    "import matplotlib as mpl\n",
    "import matplotlib.pyplot as plt\n",
    "import seaborn as sns\n",
    "mpl.style.use('bmh')"
   ]
  },
  {
   "cell_type": "code",
   "execution_count": null,
   "metadata": {},
   "outputs": [],
   "source": [
    "df = pd.read_csv('./datasets/covid_19_data.csv')"
   ]
  },
  {
   "cell_type": "code",
   "execution_count": null,
   "metadata": {},
   "outputs": [],
   "source": [
    "df.head()"
   ]
  },
  {
   "cell_type": "code",
   "execution_count": null,
   "metadata": {},
   "outputs": [],
   "source": [
    "df.columns\n"
   ]
  },
  {
   "cell_type": "code",
   "execution_count": null,
   "metadata": {},
   "outputs": [],
   "source": [
    "df.loc[df['Country/Region'] == 'Argentina']"
   ]
  },
  {
   "cell_type": "code",
   "execution_count": null,
   "metadata": {},
   "outputs": [],
   "source": [
    "df.dtypes"
   ]
  },
  {
   "cell_type": "code",
   "execution_count": null,
   "metadata": {},
   "outputs": [],
   "source": [
    "df['ObservationDate'] = pd.to_datetime(df['ObservationDate'])"
   ]
  },
  {
   "cell_type": "code",
   "execution_count": null,
   "metadata": {},
   "outputs": [],
   "source": [
    "df.dtypes"
   ]
  },
  {
   "cell_type": "code",
   "execution_count": null,
   "metadata": {},
   "outputs": [],
   "source": [
    "list(df)"
   ]
  },
  {
   "cell_type": "code",
   "execution_count": null,
   "metadata": {},
   "outputs": [],
   "source": [
    "df = df[[\n",
    "        'ObservationDate',\n",
    "        'Country/Region',\n",
    "        'Confirmed',\n",
    "        'Deaths',\n",
    "        'Recovered'\n",
    "        ]]"
   ]
  },
  {
   "cell_type": "code",
   "execution_count": null,
   "metadata": {},
   "outputs": [],
   "source": [
    "df = df.rename(columns={'Country/Region': 'Country'})"
   ]
  },
  {
   "cell_type": "code",
   "execution_count": null,
   "metadata": {},
   "outputs": [],
   "source": [
    "df.sample(5)"
   ]
  },
  {
   "cell_type": "code",
   "execution_count": null,
   "metadata": {},
   "outputs": [],
   "source": [
    "time_df_with_country = df.groupby(['Country', 'ObservationDate']).sum()\n",
    "time_df_with_country"
   ]
  },
  {
   "cell_type": "code",
   "execution_count": null,
   "metadata": {},
   "outputs": [],
   "source": [
    "df_time = df.groupby(['ObservationDate']).sum()\n",
    "df_time"
   ]
  },
  {
   "cell_type": "code",
   "execution_count": null,
   "metadata": {},
   "outputs": [],
   "source": [
    "df_example1 = df_time['Confirmed'].iloc[20:25]\n",
    "df_example1"
   ]
  },
  {
   "cell_type": "code",
   "execution_count": null,
   "metadata": {},
   "outputs": [],
   "source": [
    "df_example2 = df_time['Deaths'].iloc[19:24]\n",
    "df_example2"
   ]
  },
  {
   "cell_type": "code",
   "execution_count": null,
   "metadata": {},
   "outputs": [],
   "source": [
    "df_example1 - df_example2"
   ]
  },
  {
   "cell_type": "code",
   "execution_count": null,
   "metadata": {},
   "outputs": [],
   "source": [
    "df_time"
   ]
  },
  {
   "cell_type": "code",
   "execution_count": null,
   "metadata": {},
   "outputs": [],
   "source": [
    "df_time.diff()"
   ]
  },
  {
   "cell_type": "code",
   "execution_count": null,
   "metadata": {},
   "outputs": [],
   "source": [
    "# df_time.resample('3D').sum()\n",
    "df_time.resample('7D').sum()\n",
    "# df_time.resample('15D').sum()"
   ]
  },
  {
   "cell_type": "code",
   "execution_count": null,
   "metadata": {},
   "outputs": [],
   "source": [
    "df_time.resample('W-Sun').sum()"
   ]
  },
  {
   "cell_type": "code",
   "execution_count": null,
   "metadata": {},
   "outputs": [],
   "source": [
    "# df_time.resample('M').sum()\n",
    "df_time.resample('M').count()"
   ]
  },
  {
   "cell_type": "code",
   "execution_count": null,
   "metadata": {},
   "outputs": [],
   "source": [
    "df_time.resample('M').mean()"
   ]
  },
  {
   "cell_type": "code",
   "execution_count": null,
   "metadata": {},
   "outputs": [],
   "source": [
    "df_time.resample('12H').sum()"
   ]
  },
  {
   "cell_type": "code",
   "execution_count": null,
   "metadata": {},
   "outputs": [],
   "source": [
    "df_time.resample('12H').mean()\n",
    "#df_time.resample('12H').mean().bfill()\n",
    "#df_time.resample('12H').mean().ffill()\n",
    "#df_time.resample('12H').mean().interpolate()"
   ]
  },
  {
   "cell_type": "code",
   "execution_count": null,
   "metadata": {},
   "outputs": [],
   "source": [
    "\n",
    "df_time['ProbabilityOfDeath'] = df_time['Deaths'] / df_time['Confirmed']\n",
    "df_time['SurvivalRate'] = 1 - df_time['ProbabilityOfDeath']"
   ]
  },
  {
   "cell_type": "code",
   "execution_count": null,
   "metadata": {},
   "outputs": [],
   "source": [
    "df_time\n"
   ]
  },
  {
   "cell_type": "code",
   "execution_count": null,
   "metadata": {},
   "outputs": [],
   "source": [
    "df_time['SurvivalRate'].resample('M').mean()"
   ]
  },
  {
   "cell_type": "code",
   "execution_count": null,
   "metadata": {},
   "outputs": [],
   "source": [
    "df_time['SurvivalRate'].resample('M').mean().plot()\n"
   ]
  },
  {
   "cell_type": "code",
   "execution_count": null,
   "metadata": {},
   "outputs": [],
   "source": [
    "fig, ax = plt.subplots(figsize=(10, 5))\n",
    "ax.plot(df_time['SurvivalRate'].resample('M').mean())\n",
    "ax.set_xlabel('Date')\n",
    "ax.set_ylabel('SurvivalRate')"
   ]
  },
  {
   "cell_type": "code",
   "execution_count": null,
   "metadata": {},
   "outputs": [],
   "source": [
    "df.groupby('Country')['Confirmed'].sum().sort_values(ascending=False)"
   ]
  },
  {
   "cell_type": "code",
   "execution_count": null,
   "metadata": {},
   "outputs": [],
   "source": [
    "df.groupby('Country').sum().sort_values(by='Confirmed', ascending=False)"
   ]
  },
  {
   "cell_type": "code",
   "execution_count": null,
   "metadata": {},
   "outputs": [],
   "source": [
    "df.groupby('Country')['Recovered'].max().sort_values(ascending=False)"
   ]
  },
  {
   "cell_type": "code",
   "execution_count": null,
   "metadata": {},
   "outputs": [],
   "source": [
    "df.groupby('Country').sum().sort_values(by='Recovered', ascending=False)"
   ]
  },
  {
   "cell_type": "code",
   "execution_count": null,
   "metadata": {},
   "outputs": [],
   "source": [
    "df_pais_cualquiera1 = df.loc[df['Country'] == 'Argentina']\n",
    "df_pais_cualquiera2 = df.loc[df['Country'] == 'Brazil']\n",
    "\n"
   ]
  },
  {
   "cell_type": "code",
   "execution_count": null,
   "metadata": {},
   "outputs": [],
   "source": [
    "df_pais_cualquiera1 = df_pais_cualquiera1.set_index('ObservationDate')\n",
    "df_pais_cualquiera2 = df_pais_cualquiera2.set_index('ObservationDate')"
   ]
  },
  {
   "cell_type": "code",
   "execution_count": null,
   "metadata": {},
   "outputs": [],
   "source": [
    "df_pais_cualquiera1 = df_pais_cualquiera1.resample('M').sum()"
   ]
  },
  {
   "cell_type": "code",
   "execution_count": null,
   "metadata": {},
   "outputs": [],
   "source": [
    "df_pais_cualquiera1.head(2)"
   ]
  },
  {
   "cell_type": "code",
   "execution_count": null,
   "metadata": {},
   "outputs": [],
   "source": [
    "x = df_pais_cualquiera1.index"
   ]
  },
  {
   "cell_type": "code",
   "execution_count": null,
   "metadata": {},
   "outputs": [],
   "source": [
    "#plot data\n",
    "fig, ax = plt.subplots(figsize=(20,10))\n",
    "ax.ticklabel_format(useOffset=False, style='plain')\n",
    "ax.set_xlim(df_pais_cualquiera1.index[0], df_pais_cualquiera1.index[-1])\n",
    "ax.plot(x, df_pais_cualquiera1['Confirmed'], label='Confirmed')\n",
    "ax.plot(x, df_pais_cualquiera1['Deaths'], label='Deaths')\n",
    "ax.plot(x, df_pais_cualquiera1['Recovered'], label='Recovered')\n",
    "ax.set_xlabel('Date')\n",
    "ax.set_ylabel('Number of people')\n",
    "ax.legend()\n",
    "\n"
   ]
  },
  {
   "cell_type": "code",
   "execution_count": null,
   "metadata": {},
   "outputs": [],
   "source": [
    "df_pais_cualquiera2 = df_pais_cualquiera2.reset_index().set_index('ObservationDate')\n",
    "df_pais_cualquiera2 = df_pais_cualquiera2.resample('15D').sum()\n",
    "x = df_pais_cualquiera2.index\n",
    "df_pais_cualquiera2.head(2)\n"
   ]
  },
  {
   "cell_type": "code",
   "execution_count": null,
   "metadata": {},
   "outputs": [],
   "source": [
    "fig, ax = plt.subplots(figsize=(20,10))\n",
    "ax.ticklabel_format(useOffset=False, style='plain')\n",
    "ax.set_xlim(df_pais_cualquiera2.index[0], df_pais_cualquiera2.index[-1])\n",
    "ax.plot(x, df_pais_cualquiera2['Confirmed'], label='Confirmed')\n",
    "ax.plot(x, df_pais_cualquiera2['Deaths'], label='Deaths')\n",
    "ax.plot(x, df_pais_cualquiera2['Recovered'], label='Recovered')\n",
    "ax.set_xlabel('Date')\n",
    "ax.set_ylabel('Number of people')\n",
    "ax.legend()"
   ]
  },
  {
   "cell_type": "code",
   "execution_count": null,
   "metadata": {},
   "outputs": [],
   "source": [
    "df_pais_cualquiera2.head()"
   ]
  },
  {
   "cell_type": "code",
   "execution_count": null,
   "metadata": {},
   "outputs": [],
   "source": [
    "# fig, ax = plt.subplots(figsize=(20,10))\n",
    "# sns.barplot(data=df_pais_cualquiera2, x=df_pais_cualquiera2.index, hue=['Confirmed','Deaths'])"
   ]
  },
  {
   "cell_type": "code",
   "execution_count": null,
   "metadata": {},
   "outputs": [],
   "source": [
    "df = pd.read_csv('./datasets/2021.02.csv')\n",
    "\n",
    "\n"
   ]
  },
  {
   "cell_type": "code",
   "execution_count": null,
   "metadata": {},
   "outputs": [],
   "source": [
    "df = df.rename(columns={'Me identifico': 'Sexo', \n",
    "                        'Tipo de contrato':'Contrato', \n",
    "                        'Estoy trabajando en':'Pais' , \n",
    "                        'Dónde estás trabajando':'Ciudad',\n",
    "                        'Salario mensual o retiro BRUTO (en tu moneda local)':'SalarioBruto',\n",
    "                        'Salario mensual o retiro NETO (en tu moneda local)':'SalarioNeto',\n",
    "                        'Pagos en dólares':'PagoDolares',\n",
    "                        '¿Qué tan conforme estás con tu sueldo?':'ConformeSueldo',\n",
    "                        'Tengo':\"Edad\"\n",
    "                        })"
   ]
  },
  {
   "cell_type": "code",
   "execution_count": null,
   "metadata": {},
   "outputs": [],
   "source": [
    "df = df.dropna(subset=['SalarioNeto', 'SalarioBruto'])\n",
    "df['Edad'] = df['Edad'].astype(int)\n",
    "df = df.loc[(df['Edad'] < 90) & (df['Edad'] > 16)]\n"
   ]
  },
  {
   "cell_type": "code",
   "execution_count": null,
   "metadata": {},
   "outputs": [],
   "source": [
    "df = df.loc[df['SalarioBruto'].astype(str).str.match(\"^[0-9]*$\") == True]\n",
    "\n",
    "# df['SalarioBruto'] = df['SalarioBruto'].str.replace(',', '') \\\n",
    "#                                         .str.lower() \\\n",
    "#                                         .str.replace('$', '') \\\n",
    "#                                         .str.replace('.', '') \\\n",
    "#                                         .str.replace('ARS', '') \\\n",
    "#                                         .str.replace('pesos', '') \\\n",
    "#                                         .str.replace('argentinos', '') \\\n",
    "#                                         .str.replace('gentinos', '')\n",
    "\n",
    "df = df.loc[df['SalarioBruto'].str.len() > 4]                                         \n",
    "df['SalarioBruto'] = df['SalarioBruto'].astype(int)\n"
   ]
  },
  {
   "cell_type": "code",
   "execution_count": null,
   "metadata": {},
   "outputs": [],
   "source": [
    "df = df.loc[(df['SalarioBruto'] > 20000) & (df['SalarioBruto'] < 900000)]\n"
   ]
  },
  {
   "cell_type": "code",
   "execution_count": null,
   "metadata": {},
   "outputs": [],
   "source": [
    "fig, ax = plt.subplots(figsize=(20,10))\n",
    "ax.set_xlabel('Tipo de contrato')\n",
    "ax.set_ylabel('Sueldos neto')\n",
    "ax.set_title('Sueldos vs Tipo de contrato')\n",
    "ax.ticklabel_format(useOffset=False, style='plain')\n",
    "ax.bar(df['Contrato'], df['SalarioBruto'])\n",
    "plt.xticks(rotation=45)\n"
   ]
  },
  {
   "cell_type": "code",
   "execution_count": null,
   "metadata": {},
   "outputs": [],
   "source": [
    "fig , ax = plt.subplots(figsize=(20,10))\n",
    "map = ax.scatter(df['SalarioBruto'], df['Edad'], alpha=0.4, c=df['ConformeSueldo'])\n",
    "fig.colorbar(map)\n",
    "ax.set_title('Sueldo por edad')\n",
    "ax.set_xlabel('Sueldos')\n",
    "ax.set_ylabel('Edad')"
   ]
  },
  {
   "cell_type": "code",
   "execution_count": null,
   "metadata": {},
   "outputs": [],
   "source": [
    "# df = df.groupby('Edad').mean()\n",
    "df = df.groupby('Edad').median()\n",
    "df.head()"
   ]
  },
  {
   "cell_type": "code",
   "execution_count": null,
   "metadata": {},
   "outputs": [],
   "source": [
    "fig, ax = plt.subplots(figsize=(20,10))\n",
    "ax.plot(df.index, df['SalarioBruto'])"
   ]
  },
  {
   "cell_type": "code",
   "execution_count": null,
   "metadata": {},
   "outputs": [],
   "source": [
    "df = pd.read_csv('./datasets/HRDataset_v14.csv')\n",
    "df.head()"
   ]
  },
  {
   "cell_type": "code",
   "execution_count": null,
   "metadata": {},
   "outputs": [],
   "source": [
    "df.columns"
   ]
  },
  {
   "cell_type": "code",
   "execution_count": null,
   "metadata": {},
   "outputs": [],
   "source": [
    "df['Sex']"
   ]
  },
  {
   "cell_type": "code",
   "execution_count": null,
   "metadata": {},
   "outputs": [],
   "source": [
    "\n",
    "ax = sns.catplot(data=df, kind='violin', x='PerformanceScore', y='Salary', hue='MarriedID', split=True, height=10 )\n",
    "\n",
    "ax.set(xlabel='PerformanceScore', ylabel='Sueldo', title='Categorización de la distribución de pulsaciones')"
   ]
  },
  {
   "cell_type": "code",
   "execution_count": null,
   "metadata": {},
   "outputs": [],
   "source": [
    "fig, ax = plt.subplots(figsize=(20,10))\n",
    "sns.kdeplot(df.Salary[df.GenderID==0], label='women', shade=True, color='red')\n",
    "sns.kdeplot(df.Salary[df.GenderID==1], label='men', shade=True, color='blue')\n",
    "\n",
    "plt.xlabel('Salary vs gender');"
   ]
  },
  {
   "cell_type": "code",
   "execution_count": null,
   "metadata": {},
   "outputs": [],
   "source": [
    "fig, ax = plt.subplots(figsize=(20,10))\n",
    "sns.histplot(df.Salary)\n",
    "# sns.histplot(df.Salary, kde=True)\n",
    "plt.savefig('prueba.jpg')\n",
    "plt.show()"
   ]
  },
  {
   "cell_type": "code",
   "execution_count": null,
   "metadata": {},
   "outputs": [],
   "source": [
    "fig, ax = plt.subplots(figsize=(20,10))\n",
    "sns.barplot(data=df, x=\"EmpSatisfaction\", hue=\"Sex\", y='Salary')"
   ]
  },
  {
   "cell_type": "code",
   "execution_count": null,
   "metadata": {},
   "outputs": [],
   "source": [
    "sns.scatterplot(data=df, x='EmpSatisfaction', y='PerformanceScore' )"
   ]
  },
  {
   "cell_type": "code",
   "execution_count": null,
   "metadata": {},
   "outputs": [],
   "source": []
  }
 ],
 "metadata": {
  "interpreter": {
   "hash": "6d1fbb6d263ac41c211b7431779a43f95c40dd874d1f34ace78a892ce9b62be8"
  },
  "kernelspec": {
   "display_name": "Python 3.9.7 64-bit ('venv': venv)",
   "language": "python",
   "name": "python3"
  },
  "language_info": {
   "codemirror_mode": {
    "name": "ipython",
    "version": 3
   },
   "file_extension": ".py",
   "mimetype": "text/x-python",
   "name": "python",
   "nbconvert_exporter": "python",
   "pygments_lexer": "ipython3",
   "version": "3.9.7"
  },
  "orig_nbformat": 4
 },
 "nbformat": 4,
 "nbformat_minor": 2
}
