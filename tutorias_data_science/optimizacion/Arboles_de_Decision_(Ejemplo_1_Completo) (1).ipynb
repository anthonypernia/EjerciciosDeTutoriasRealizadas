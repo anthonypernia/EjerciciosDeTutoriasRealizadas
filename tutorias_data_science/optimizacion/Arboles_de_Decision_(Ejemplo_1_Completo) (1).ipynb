{
  "cells": [
    {
      "cell_type": "markdown",
      "metadata": {
        "id": "mKQfB831BZR3"
      },
      "source": [
        "### Árbol de Decisión modelo de Clasificación en Scikit-Learn - Titanic"
      ]
    },
    {
      "cell_type": "code",
      "execution_count": 74,
      "metadata": {
        "id": "GAGvE_w0BZR5"
      },
      "outputs": [],
      "source": [
        "import pandas as pd\n",
        "import numpy as np\n",
        "from sklearn.tree import DecisionTreeClassifier\n",
        "from sklearn.model_selection import GridSearchCV\n",
        "import matplotlib.pyplot as plt\n",
        "import sklearn \n",
        "titanic = pd.read_csv(\"./Titanic2.csv\", sep = \",\")"
      ]
    },
    {
      "cell_type": "code",
      "execution_count": 75,
      "metadata": {
        "colab": {
          "base_uri": "https://localhost:8080/",
          "height": 206
        },
        "id": "zC_Fs_XEkFPG",
        "outputId": "051dca07-fcc8-4a6c-9a07-f42262b30d24"
      },
      "outputs": [
        {
          "data": {
            "text/html": [
              "<div>\n",
              "<style scoped>\n",
              "    .dataframe tbody tr th:only-of-type {\n",
              "        vertical-align: middle;\n",
              "    }\n",
              "\n",
              "    .dataframe tbody tr th {\n",
              "        vertical-align: top;\n",
              "    }\n",
              "\n",
              "    .dataframe thead th {\n",
              "        text-align: right;\n",
              "    }\n",
              "</style>\n",
              "<table border=\"1\" class=\"dataframe\">\n",
              "  <thead>\n",
              "    <tr style=\"text-align: right;\">\n",
              "      <th></th>\n",
              "      <th>Survived</th>\n",
              "      <th>Pclass</th>\n",
              "      <th>Sex</th>\n",
              "      <th>Age</th>\n",
              "      <th>SibSp</th>\n",
              "      <th>Parch</th>\n",
              "    </tr>\n",
              "  </thead>\n",
              "  <tbody>\n",
              "    <tr>\n",
              "      <th>0</th>\n",
              "      <td>0</td>\n",
              "      <td>3</td>\n",
              "      <td>0</td>\n",
              "      <td>22.0</td>\n",
              "      <td>1</td>\n",
              "      <td>0</td>\n",
              "    </tr>\n",
              "    <tr>\n",
              "      <th>1</th>\n",
              "      <td>1</td>\n",
              "      <td>1</td>\n",
              "      <td>1</td>\n",
              "      <td>38.0</td>\n",
              "      <td>1</td>\n",
              "      <td>0</td>\n",
              "    </tr>\n",
              "    <tr>\n",
              "      <th>2</th>\n",
              "      <td>1</td>\n",
              "      <td>3</td>\n",
              "      <td>1</td>\n",
              "      <td>26.0</td>\n",
              "      <td>0</td>\n",
              "      <td>0</td>\n",
              "    </tr>\n",
              "    <tr>\n",
              "      <th>3</th>\n",
              "      <td>1</td>\n",
              "      <td>1</td>\n",
              "      <td>1</td>\n",
              "      <td>35.0</td>\n",
              "      <td>1</td>\n",
              "      <td>0</td>\n",
              "    </tr>\n",
              "    <tr>\n",
              "      <th>4</th>\n",
              "      <td>0</td>\n",
              "      <td>3</td>\n",
              "      <td>0</td>\n",
              "      <td>35.0</td>\n",
              "      <td>0</td>\n",
              "      <td>0</td>\n",
              "    </tr>\n",
              "  </tbody>\n",
              "</table>\n",
              "</div>"
            ],
            "text/plain": [
              "   Survived  Pclass  Sex   Age  SibSp  Parch\n",
              "0         0       3    0  22.0      1      0\n",
              "1         1       1    1  38.0      1      0\n",
              "2         1       3    1  26.0      0      0\n",
              "3         1       1    1  35.0      1      0\n",
              "4         0       3    0  35.0      0      0"
            ]
          },
          "execution_count": 75,
          "metadata": {},
          "output_type": "execute_result"
        }
      ],
      "source": [
        "titanic.head()"
      ]
    },
    {
      "cell_type": "code",
      "execution_count": null,
      "metadata": {},
      "outputs": [],
      "source": []
    },
    {
      "cell_type": "code",
      "execution_count": 76,
      "metadata": {
        "colab": {
          "base_uri": "https://localhost:8080/"
        },
        "id": "ttHZwRwLkPCe",
        "outputId": "597ee48c-bd1f-44d7-d13e-ba195a1b7b0d"
      },
      "outputs": [
        {
          "data": {
            "text/plain": [
              "(714, 6)"
            ]
          },
          "execution_count": 76,
          "metadata": {},
          "output_type": "execute_result"
        }
      ],
      "source": [
        "titanic.shape"
      ]
    },
    {
      "cell_type": "code",
      "execution_count": 77,
      "metadata": {
        "id": "MRIUznh_BZR7"
      },
      "outputs": [],
      "source": [
        "#Separación en Train y Test\n",
        "X = titanic.drop(\"Survived\", axis=1)\n",
        "y = titanic.Survived"
      ]
    },
    {
      "cell_type": "code",
      "execution_count": 78,
      "metadata": {
        "id": "mIl3JYK4BZR8"
      },
      "outputs": [],
      "source": [
        "from sklearn.model_selection import train_test_split \n",
        "\n",
        "#Train y Test Split\n",
        "X_train, X_test, y_train, y_test = train_test_split(X, y, test_size=0.30, random_state=42) "
      ]
    },
    {
      "cell_type": "code",
      "execution_count": 79,
      "metadata": {
        "id": "m6XzPrLTBZR8"
      },
      "outputs": [],
      "source": [
        "#Arbol de Decision\n",
        "from sklearn.tree import DecisionTreeClassifier \n",
        "arbol_de_decision = DecisionTreeClassifier(random_state = 42) "
      ]
    },
    {
      "cell_type": "code",
      "execution_count": 82,
      "metadata": {
        "id": "AUggw640lhia"
      },
      "outputs": [],
      "source": [
        "param_grid = [\n",
        "  {'max_depth': [3,4,5,6], 'min_samples_split': [2,3, 5,10, 20]} ]"
      ]
    },
    {
      "cell_type": "code",
      "execution_count": 84,
      "metadata": {
        "colab": {
          "base_uri": "https://localhost:8080/"
        },
        "id": "8RUWIXHtmPaF",
        "outputId": "3bba6568-a250-4aac-c973-6b026b99ac68"
      },
      "outputs": [],
      "source": [
        "clf =  GridSearchCV(arbol_de_decision, param_grid)\n"
      ]
    },
    {
      "cell_type": "code",
      "execution_count": 85,
      "metadata": {},
      "outputs": [
        {
          "data": {
            "text/plain": [
              "GridSearchCV(estimator=DecisionTreeClassifier(random_state=42),\n",
              "             param_grid=[{'max_depth': [3, 4, 5, 6],\n",
              "                          'min_samples_split': [2, 3, 5, 10, 20]}])"
            ]
          },
          "execution_count": 85,
          "metadata": {},
          "output_type": "execute_result"
        }
      ],
      "source": [
        "clf.fit(X_train, y_train)\n"
      ]
    },
    {
      "cell_type": "code",
      "execution_count": 86,
      "metadata": {},
      "outputs": [
        {
          "data": {
            "text/plain": [
              "{'max_depth': 4, 'min_samples_split': 2}"
            ]
          },
          "execution_count": 86,
          "metadata": {},
          "output_type": "execute_result"
        }
      ],
      "source": [
        "clf.best_params_"
      ]
    },
    {
      "cell_type": "code",
      "execution_count": 87,
      "metadata": {
        "id": "gnsuQrQ_nL2g"
      },
      "outputs": [],
      "source": [
        "arbol_de_decision = DecisionTreeClassifier(max_depth=clf.best_params_['max_depth'],\n",
        "                                           min_samples_split =clf.best_params_['min_samples_split'],\n",
        "                                           random_state = 42) "
      ]
    },
    {
      "cell_type": "code",
      "execution_count": 91,
      "metadata": {
        "colab": {
          "base_uri": "https://localhost:8080/"
        },
        "id": "EiVglGo6BZR8",
        "outputId": "0d2a86c7-fd74-4ebd-e996-a8a2578b4d2c"
      },
      "outputs": [
        {
          "data": {
            "text/plain": [
              "GridSearchCV(estimator=DecisionTreeClassifier(random_state=42),\n",
              "             param_grid=[{'max_depth': [3, 4, 5, 6],\n",
              "                          'min_samples_split': [2, 3, 5, 10, 20]}])"
            ]
          },
          "execution_count": 91,
          "metadata": {},
          "output_type": "execute_result"
        }
      ],
      "source": [
        "#Fit\n",
        "clf.fit(X_train,y_train) #Entrenamos el modelo"
      ]
    },
    {
      "cell_type": "code",
      "execution_count": 92,
      "metadata": {
        "id": "uAMo6_ZvBZR9"
      },
      "outputs": [],
      "source": [
        "#Prediccion\n",
        "y_test_pred = clf.predict(X_test)"
      ]
    },
    {
      "cell_type": "markdown",
      "metadata": {
        "id": "VjnMVgzPBZR9"
      },
      "source": [
        "A lo largo de este notebook, se solicita calcular las métricas requeridas como así también su correspondiente interpretación: \n",
        "\n",
        "1. Calcular la métrica Accuracy."
      ]
    },
    {
      "cell_type": "code",
      "execution_count": 93,
      "metadata": {
        "colab": {
          "base_uri": "https://localhost:8080/"
        },
        "id": "3T3zM1KOBZR9",
        "outputId": "953c1b2f-f0df-40a4-c695-9d102aa8575c"
      },
      "outputs": [
        {
          "name": "stdout",
          "output_type": "stream",
          "text": [
            "% de aciertos sobre el set de evaluación: 0.7674418604651163\n"
          ]
        }
      ],
      "source": [
        "from sklearn.metrics import accuracy_score\n",
        "\n",
        "#Calculo el accuracy en Test\n",
        "test_accuracy = accuracy_score(y_test, y_test_pred)\n",
        "\n",
        "print('% de aciertos sobre el set de evaluación:',test_accuracy)"
      ]
    },
    {
      "cell_type": "markdown",
      "metadata": {
        "id": "qUER7SWgBZR-"
      },
      "source": [
        "2. Crear la Matriz de Confusión"
      ]
    },
    {
      "cell_type": "code",
      "execution_count": 96,
      "metadata": {
        "colab": {
          "base_uri": "https://localhost:8080/",
          "height": 369
        },
        "id": "bAwhZ4B-BZR-",
        "outputId": "710e6ce7-d16b-44ae-9578-46d5ba72ac05"
      },
      "outputs": [
        {
          "name": "stdout",
          "output_type": "stream",
          "text": [
            "[[102  24]\n",
            " [ 26  63]]\n"
          ]
        },
        {
          "name": "stderr",
          "output_type": "stream",
          "text": [
            "/home/anthony/tutorias_anthony/tutorias_data_science/venv/lib/python3.9/site-packages/sklearn/utils/deprecation.py:87: FutureWarning: Function plot_confusion_matrix is deprecated; Function `plot_confusion_matrix` is deprecated in 1.0 and will be removed in 1.2. Use one of the class methods: ConfusionMatrixDisplay.from_predictions or ConfusionMatrixDisplay.from_estimator.\n",
            "  warnings.warn(msg, category=FutureWarning)\n"
          ]
        },
        {
          "data": {
            "image/png": "[encoded data removed]",
            "text/plain": [
              "<Figure size 432x288 with 2 Axes>"
            ]
          },
          "metadata": {
            "needs_background": "light"
          },
          "output_type": "display_data"
        }
      ],
      "source": [
        "#Matriz de Confusión\n",
        "import matplotlib.pyplot as plt\n",
        "from sklearn.metrics import confusion_matrix\n",
        "from sklearn.metrics import plot_confusion_matrix\n",
        "\n",
        "#Matriz de Confusión\n",
        "print(confusion_matrix(y_test, y_test_pred))\n",
        "\n",
        "#Ploteamos la Matriz\n",
        "plot_confusion_matrix(arbol_de_decision, X_test, y_test)\n",
        "plt.show()"
      ]
    },
    {
      "cell_type": "markdown",
      "metadata": {
        "id": "FnSP9whrBZR-"
      },
      "source": [
        "3. Calcular la métrica Precision"
      ]
    },
    {
      "cell_type": "code",
      "execution_count": 98,
      "metadata": {
        "colab": {
          "base_uri": "https://localhost:8080/"
        },
        "id": "6ASaFq43BZR_",
        "outputId": "63be04e4-c92f-4b80-cecd-ed4b0f3c100b"
      },
      "outputs": [
        {
          "name": "stdout",
          "output_type": "stream",
          "text": [
            "Precision Score of the classifier is: 0.7241379310344828\n"
          ]
        }
      ],
      "source": [
        "from sklearn.metrics import precision_score\n",
        "\n",
        "# Precision!\n",
        "print(f\"Precision Score of the classifier is: {precision_score(y_test, y_test_pred)}\")"
      ]
    },
    {
      "cell_type": "markdown",
      "metadata": {
        "id": "H-_8aVcsBZR_"
      },
      "source": [
        "4. Calcular la métrica Recall"
      ]
    },
    {
      "cell_type": "code",
      "execution_count": 100,
      "metadata": {
        "colab": {
          "base_uri": "https://localhost:8080/"
        },
        "id": "WkmA1tGgBZR_",
        "outputId": "a36cb772-8b48-43eb-b9e5-2ae794f9de4a"
      },
      "outputs": [
        {
          "name": "stdout",
          "output_type": "stream",
          "text": [
            "Recall Score of the classifier is: 0.7078651685393258\n"
          ]
        }
      ],
      "source": [
        "from sklearn.metrics import recall_score\n",
        "\n",
        "# Recall\n",
        "print(f\"Recall Score of the classifier is: {recall_score(y_test, y_test_pred)}\")"
      ]
    },
    {
      "cell_type": "markdown",
      "metadata": {
        "id": "AD-msJBmBZR_"
      },
      "source": [
        "5. Calcular la métrica F1 score"
      ]
    },
    {
      "cell_type": "code",
      "execution_count": 101,
      "metadata": {
        "colab": {
          "base_uri": "https://localhost:8080/"
        },
        "id": "COCofhMWBZR_",
        "outputId": "5e361519-d5a0-4dc1-d8d8-bcfa9fcf2eaf"
      },
      "outputs": [
        {
          "name": "stdout",
          "output_type": "stream",
          "text": [
            "F1 Score of the classifier is: 0.7159090909090908\n"
          ]
        }
      ],
      "source": [
        "from sklearn.metrics import f1_score\n",
        "\n",
        "# Calculo del F1 score\n",
        "print(f\"F1 Score of the classifier is: {f1_score(y_test, y_test_pred)}\")"
      ]
    },
    {
      "cell_type": "code",
      "execution_count": null,
      "metadata": {
        "id": "cmsOTM87oaUO"
      },
      "outputs": [],
      "source": []
    }
  ],
  "metadata": {
    "colab": {
      "name": "Arboles de Decision (Ejemplo 1 - Completo).ipynb",
      "provenance": []
    },
    "kernelspec": {
      "display_name": "Python 3",
      "language": "python",
      "name": "python3"
    },
    "language_info": {
      "codemirror_mode": {
        "name": "ipython",
        "version": 3
      },
      "file_extension": ".py",
      "mimetype": "text/x-python",
      "name": "python",
      "nbconvert_exporter": "python",
      "pygments_lexer": "ipython3",
      "version": "3.8.5"
    },
    "varInspector": {
      "cols": {
        "lenName": 16,
        "lenType": 16,
        "lenVar": 40
      },
      "kernels_config": {
        "python": {
          "delete_cmd_postfix": "",
          "delete_cmd_prefix": "del ",
          "library": "var_list.py",
          "varRefreshCmd": "print(var_dic_list())"
        },
        "r": {
          "delete_cmd_postfix": ") ",
          "delete_cmd_prefix": "rm(",
          "library": "var_list.r",
          "varRefreshCmd": "cat(var_dic_list()) "
        }
      },
      "types_to_exclude": [
        "module",
        "function",
        "builtin_function_or_method",
        "instance",
        "_Feature"
      ],
      "window_display": false
    }
  },
  "nbformat": 4,
  "nbformat_minor": 0
}
